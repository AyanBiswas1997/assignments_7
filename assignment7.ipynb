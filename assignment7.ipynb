{
 "cells": [
  {
   "cell_type": "markdown",
   "id": "cd61a519-3bc1-4a0a-b64c-de70c0d10968",
   "metadata": {},
   "source": [
    "Q.1. Create two int type variables, apply addition, subtraction, division and multiplications\r\n",
    "and store the results in variables. Then print the data in the following format by calling the\r\n",
    "variable\n",
    "First variable is __ & second variable is __.\r\n",
    "Addition: __ + __ = __\r\n",
    "Subtraction: __ - __ = __\r\n",
    "Multiplication: __ * __ = __\r\n",
    "Division: __ / __ = __s:"
   ]
  },
  {
   "cell_type": "code",
   "execution_count": 21,
   "id": "7c557d6c-ddd9-4ac3-8f7e-a713b9add7f6",
   "metadata": {},
   "outputs": [
    {
     "name": "stdout",
     "output_type": "stream",
     "text": [
      "my first var is a & scond variable is b\n",
      "addition:a+b= 30\n",
      "Subtraction: a - b = -10\n",
      "Multiplication:a * b= 200\n",
      "Divition: a/b= 0.5\n"
     ]
    }
   ],
   "source": [
    "a=10\n",
    "b=20\n",
    "print(\"my first var is a & scond variable is b\")\n",
    "addition=a+b\n",
    "print(\"addition:a+b=\",addition)\n",
    "subtraction=a-b\n",
    "print(\"Subtraction: a - b =\",subtraction)\n",
    "multiplication=a*b\n",
    "print(\"Multiplication:a * b=\",multiplication)\n",
    "Divition=a/b\n",
    "print(\"Divition: a/b=\",Divition)\n"
   ]
  },
  {
   "cell_type": "markdown",
   "id": "f8b58147-ec12-417a-912e-f13397f09641",
   "metadata": {},
   "source": [
    "Q.2. What is the difference between the following operators:\r\n",
    "(i) ‘/’ & ‘//’\r\n",
    "(ii) ‘**’ & ‘^’"
   ]
  },
  {
   "cell_type": "code",
   "execution_count": null,
   "id": "d14225cd-d923-4aa6-a1d1-65db44d5c6bb",
   "metadata": {},
   "outputs": [],
   "source": [
    "1.The division operator (/) returns a floating-point number, while the floor division operator (//) returns an integer\n",
    "2.args specifies the number of non-keyworded arguments that can be passed and the operations that can be performed on the function in Python whereas **kwargs is a variable number of keyword arguments that can be passed to a function that can perform dictionary operations. args and kwargs in python are really very important, lets discuss why and also what is args and kwargs in python."
   ]
  },
  {
   "cell_type": "markdown",
   "id": "65c4f349-b976-4026-8621-014c8316d016",
   "metadata": {},
   "source": [
    "List the logical operators."
   ]
  },
  {
   "cell_type": "markdown",
   "id": "4dcffe9c-ff49-4ef5-be7c-831f429d1ade",
   "metadata": {},
   "source": [
    "And,or,not"
   ]
  },
  {
   "cell_type": "code",
   "execution_count": 32,
   "id": "6eb5f1a6-21a0-4181-8e78-78c9aea4254f",
   "metadata": {},
   "outputs": [
    {
     "name": "stdout",
     "output_type": "stream",
     "text": [
      "yes\n"
     ]
    }
   ],
   "source": [
    "l1=[12,1,3,25,28,90,65,10,98,89,90,84,64,23,16]\n",
    "if 10 in l1:\n",
    "    print(\"yes\")\n",
    "else:\n",
    "    print(\"no\")"
   ]
  },
  {
   "cell_type": "code",
   "execution_count": null,
   "id": "10600995-eea2-4021-9833-b2216ade4257",
   "metadata": {},
   "outputs": [],
   "source": []
  },
  {
   "cell_type": "code",
   "execution_count": null,
   "id": "82298998-589e-4048-8030-5f8eb015921b",
   "metadata": {},
   "outputs": [],
   "source": []
  }
 ],
 "metadata": {
  "kernelspec": {
   "display_name": "Python 3 (ipykernel)",
   "language": "python",
   "name": "python3"
  },
  "language_info": {
   "codemirror_mode": {
    "name": "ipython",
    "version": 3
   },
   "file_extension": ".py",
   "mimetype": "text/x-python",
   "name": "python",
   "nbconvert_exporter": "python",
   "pygments_lexer": "ipython3",
   "version": "3.11.7"
  }
 },
 "nbformat": 4,
 "nbformat_minor": 5
}
